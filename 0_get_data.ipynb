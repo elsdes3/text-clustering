{
 "cells": [
  {
   "cell_type": "markdown",
   "id": "cac04d9f-7548-47bb-a2b7-4facd929e3d9",
   "metadata": {},
   "source": [
    "# Load all data"
   ]
  },
  {
   "cell_type": "code",
   "execution_count": null,
   "id": "c98fb3b9-0c49-426e-bd39-1f88afbc0e84",
   "metadata": {},
   "outputs": [],
   "source": [
    "%load_ext lab_black\n",
    "%load_ext autoreload\n",
    "%autoreload 2"
   ]
  },
  {
   "cell_type": "code",
   "execution_count": null,
   "id": "4288a2f9-aace-484d-a70c-7df5235b8965",
   "metadata": {},
   "outputs": [],
   "source": [
    "import os\n",
    "\n",
    "%aimport src.workflows.workflow_utils\n",
    "from src.workflows.workflow_utils import retrieve_data"
   ]
  },
  {
   "cell_type": "markdown",
   "id": "f9f8c773-8ed5-4773-8d49-f336424eda4a",
   "metadata": {},
   "source": [
    "## About"
   ]
  },
  {
   "cell_type": "markdown",
   "id": "78c0d2c3-3322-48ea-8161-aa1da96454df",
   "metadata": {},
   "source": [
    "Download the data for text clustering from [here](https://www.kaggle.com/c/transfer-learning-on-stack-exchange-tags/data)."
   ]
  },
  {
   "cell_type": "markdown",
   "id": "16eb74cd-4a5b-426c-a151-76cd72a1398a",
   "metadata": {},
   "source": [
    "## User Inputs"
   ]
  },
  {
   "cell_type": "code",
   "execution_count": null,
   "id": "b7feefc8-e92e-4cca-a8ed-bc0166f8a33b",
   "metadata": {
    "tags": [
     "parameters"
    ]
   },
   "outputs": [],
   "source": [
    "data_dir = \"data/raw\"\n",
    "\n",
    "topics = [\"biology\", \"cooking\", \"crypto\", \"diy\", \"robotics\", \"travel\"]\n",
    "\n",
    "zip_filepaths = [f\"{data_dir}/{t}.csv.zip\" for t in topics]\n",
    "\n",
    "nltk_stopwords_dir = os.path.join(\n",
    "    os.path.expanduser(\"~\"), \"nltk_data\", \"corpora\", \"stopwords\"\n",
    ")"
   ]
  },
  {
   "cell_type": "markdown",
   "id": "deb5566f-7632-4690-9cf7-9093502148d3",
   "metadata": {},
   "source": [
    "## Run Data Acquisition Workflow"
   ]
  },
  {
   "cell_type": "code",
   "execution_count": null,
   "id": "3ed46362-f5fd-48ef-a288-4784350ec445",
   "metadata": {
    "tags": []
   },
   "outputs": [],
   "source": [
    "%%time\n",
    "_ = retrieve_data(zip_filepaths, topics, data_dir, nltk_stopwords_dir)"
   ]
  }
 ],
 "metadata": {
  "kernelspec": {
   "display_name": "Python 3 (ipykernel)",
   "language": "python",
   "name": "python3"
  },
  "language_info": {
   "codemirror_mode": {
    "name": "ipython",
    "version": 3
   },
   "file_extension": ".py",
   "mimetype": "text/x-python",
   "name": "python",
   "nbconvert_exporter": "python",
   "pygments_lexer": "ipython3",
   "version": "3.9.5"
  }
 },
 "nbformat": 4,
 "nbformat_minor": 5
}
